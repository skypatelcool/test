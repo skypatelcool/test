{
  "metadata": {
    "language_info": {
      "codemirror_mode": {
        "name": "python",
        "version": 3
      },
      "file_extension": ".py",
      "mimetype": "text/x-python",
      "name": "python",
      "nbconvert_exporter": "python",
      "pygments_lexer": "ipython3",
      "version": "3.8"
    },
    "kernelspec": {
      "name": "python",
      "display_name": "Pyolite",
      "language": "python"
    }
  },
  "nbformat_minor": 4,
  "nbformat": 4,
  "cells": [
    {
      "cell_type": "markdown",
      "source": "# My Jupyter Notebook in IBM Watson Studio",
      "metadata": {}
    },
    {
      "cell_type": "markdown",
      "source": "### AAKASH SHYAM PATEL\n##### SERVICE ENGINEER",
      "metadata": {}
    },
    {
      "cell_type": "markdown",
      "source": "*I am interested in data science because its a field with a great potential to start my career.\nIt will benefit me with a competetive knowledge and simultaneously help in my personal and professional growth.\nIt will provide me a beforehand idea of the result while building the Model for its output.*",
      "metadata": {}
    },
    {
      "cell_type": "markdown",
      "source": "### This code is supposed to add two entities ",
      "metadata": {}
    },
    {
      "cell_type": "code",
      "source": "1+1",
      "metadata": {
        "trusted": true
      },
      "execution_count": 1,
      "outputs": [
        {
          "execution_count": 1,
          "output_type": "execute_result",
          "data": {
            "text/plain": "2"
          },
          "metadata": {}
        }
      ]
    },
    {
      "cell_type": "markdown",
      "source": "<a href=\"https://dataplatform.cloud.ibm.com/gallery\">IBM Cloud Gallery</a>",
      "metadata": {}
    },
    {
      "cell_type": "markdown",
      "source": "|STATE|LOCATION|MONTHS TO VISIT|\n|-----|--------|---------------|\n|KASHMIR|NORTH|MARCH TO AUGUST|\n|RAJASTHAN|WEST|NOVEMBER TO FEBRUARY|\n|ASSAM|EAST|NOVEMBER TO MAY|\n|ANDAMAN|SOUTH|OCTOBER & MAY|",
      "metadata": {}
    },
    {
      "cell_type": "code",
      "source": "",
      "metadata": {},
      "execution_count": null,
      "outputs": []
    }
  ]
}